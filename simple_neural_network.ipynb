{
  "nbformat": 4,
  "nbformat_minor": 0,
  "metadata": {
    "colab": {
      "name": "simple neural network.ipynb",
      "provenance": [],
      "collapsed_sections": [],
      "toc_visible": true,
      "authorship_tag": "ABX9TyMcxV+dh3gLOaSilu3znPzv",
      "include_colab_link": true
    },
    "kernelspec": {
      "name": "python3",
      "display_name": "Python 3"
    },
    "language_info": {
      "name": "python"
    }
  },
  "cells": [
    {
      "cell_type": "markdown",
      "metadata": {
        "id": "view-in-github",
        "colab_type": "text"
      },
      "source": [
        "<a href=\"https://colab.research.google.com/github/Swastik-Panda2003/BCS-task-Swastik-211091-/blob/main/simple_neural_network.ipynb\" target=\"_parent\"><img src=\"https://colab.research.google.com/assets/colab-badge.svg\" alt=\"Open In Colab\"/></a>"
      ]
    },
    {
      "cell_type": "code",
      "execution_count": null,
      "metadata": {
        "id": "FdNiVppYHnJZ"
      },
      "outputs": [],
      "source": [
        "import numpy as np"
      ]
    },
    {
      "cell_type": "code",
      "source": [
        "def pdiff(fn, idx, *args):\n",
        "  #calculating partial derivative of function fn wrt variable present it index idx from list args\n",
        "    delta = 0.000000000001\n",
        "\n",
        "    y = fn(*args)\n",
        "\n",
        "    args = list(args)\n",
        "    args[idx] += delta\n",
        "\n",
        "    y1 = fn(*args)\n",
        "    return (y1 - y)/delta"
      ],
      "metadata": {
        "id": "7MX22JaxH4n2"
      },
      "execution_count": null,
      "outputs": []
    },
    {
      "cell_type": "code",
      "source": [
        "# consider a example\n",
        "def line_func(m,x,c):\n",
        "  return m*x + c\n",
        "  "
      ],
      "metadata": {
        "id": "K65ngwK3IWxh"
      },
      "execution_count": null,
      "outputs": []
    },
    {
      "cell_type": "code",
      "source": [
        "pdiff_m = pdiff(line_func,0, 2, 3, 4)\n",
        "pdiff_x = pdiff(line_func,1, 2, 3, 4)\n",
        "pdiff_c = pdiff(line_func,2, 2, 3, 4)"
      ],
      "metadata": {
        "id": "FFRuAm4fIl6I"
      },
      "execution_count": null,
      "outputs": []
    },
    {
      "cell_type": "code",
      "source": [
        "print(pdiff_m) #value should be 3\n",
        "print(pdiff_x) #value should be 2\n",
        "print(pdiff_c) #value should be 1"
      ],
      "metadata": {
        "colab": {
          "base_uri": "https://localhost:8080/"
        },
        "id": "Ozg6KXBKLfaL",
        "outputId": "792a796a-7561-4eae-9d8a-d828691b2b9e"
      },
      "execution_count": null,
      "outputs": [
        {
          "output_type": "stream",
          "name": "stdout",
          "text": [
            "3.000266701747023\n",
            "2.000177801164682\n",
            "1.000088900582341\n"
          ]
        }
      ]
    },
    {
      "cell_type": "markdown",
      "source": [
        "\n",
        "# Gradient Descent"
      ],
      "metadata": {
        "id": "aaV-mx2tMaRz"
      }
    },
    {
      "cell_type": "code",
      "source": [
        "x = np.random.rand(100,1) # generating 100 random numbers"
      ],
      "metadata": {
        "id": "c3kXs_jLMTvX"
      },
      "execution_count": null,
      "outputs": []
    },
    {
      "cell_type": "code",
      "source": [
        "y = 4 + 3*x + np.random.rand(100,1) # values of y corresponding to x with some added noise"
      ],
      "metadata": {
        "id": "iCeWlVTHMyfV"
      },
      "execution_count": null,
      "outputs": []
    },
    {
      "cell_type": "code",
      "source": [
        "from matplotlib import pyplot as plt\n",
        "\n",
        "plt.scatter(x, y)\n",
        "plt.xlabel(\"X axis\")\n",
        "plt.ylabel(\"Y axis\")\n",
        "plt.show()\n"
      ],
      "metadata": {
        "colab": {
          "base_uri": "https://localhost:8080/",
          "height": 282
        },
        "id": "wl7ysjV8Numj",
        "outputId": "c5211528-00b1-45ee-b0fb-9e8b3afc85cf"
      },
      "execution_count": null,
      "outputs": [
        {
          "output_type": "display_data",
          "data": {
            "text/plain": [
              "<Figure size 432x288 with 1 Axes>"
            ],
            "image/png": "[encoded data removed]"
          },
          "metadata": {
            "needs_background": "light"
          }
        }
      ]
    },
    {
      "cell_type": "code",
      "source": [
        "def error(m,c,x,y):\n",
        "    y_pred = m*x + c\n",
        "    err = y_pred - y\n",
        "    return np.sum(err*err)"
      ],
      "metadata": {
        "id": "LK3mSX3xN4Oz"
      },
      "execution_count": null,
      "outputs": []
    },
    {
      "cell_type": "code",
      "source": [
        "print(error(3,4,x,y))"
      ],
      "metadata": {
        "colab": {
          "base_uri": "https://localhost:8080/"
        },
        "id": "6u4HUNLlPkF-",
        "outputId": "93045586-e248-4e50-f92a-f933c1f8e159"
      },
      "execution_count": null,
      "outputs": [
        {
          "output_type": "stream",
          "name": "stdout",
          "text": [
            "33.4815690472366\n"
          ]
        }
      ]
    },
    {
      "cell_type": "code",
      "source": [
        "# now lets tune the values of m and c"
      ],
      "metadata": {
        "id": "2i6HTCHNPx-Q"
      },
      "execution_count": null,
      "outputs": []
    },
    {
      "cell_type": "code",
      "source": [
        "def grad_fit(x, y):\n",
        "    m = np.random.random()\n",
        "    c = np.random.random()\n",
        "    learning_rate = 0.001\n",
        "    for i in range(100):\n",
        "        dE_dm = pdiff(error, 0, m, c, x, y)\n",
        "        dE_dc = pdiff(error, 1, m, c, x, y)\n",
        "        \n",
        "        m = m - learning_rate * dE_dm\n",
        "        c = c - learning_rate * dE_dc\n",
        "    return (m, c)\n"
      ],
      "metadata": {
        "id": "dgeqDRxxP6TH"
      },
      "execution_count": null,
      "outputs": []
    },
    {
      "cell_type": "code",
      "source": [
        "print(grad_fit(x,y))"
      ],
      "metadata": {
        "colab": {
          "base_uri": "https://localhost:8080/"
        },
        "id": "CuIMeZ5rRRoh",
        "outputId": "9a4965dc-8c25-455d-d6a3-92e24b217e61"
      },
      "execution_count": null,
      "outputs": [
        {
          "output_type": "stream",
          "name": "stdout",
          "text": [
            "(2.99511604498396, 4.495889215874657)\n"
          ]
        }
      ]
    },
    {
      "cell_type": "code",
      "source": [
        "plt.scatter(x,y)\n",
        "m,c = grad_fit(x,y)\n",
        "plt.plot(x,m*x+c,color = 'r')\n",
        "plt.show()"
      ],
      "metadata": {
        "id": "u6rc55ryRZf9",
        "colab": {
          "base_uri": "https://localhost:8080/",
          "height": 268
        },
        "outputId": "f662e283-c2f6-4ae4-872a-6020c4e1cd1a"
      },
      "execution_count": null,
      "outputs": [
        {
          "output_type": "display_data",
          "data": {
            "text/plain": [
              "<Figure size 432x288 with 1 Axes>"
            ],
            "image/png": "[encoded data removed]"
          },
          "metadata": {
            "needs_background": "light"
          }
        }
      ]
    },
    {
      "cell_type": "markdown",
      "source": [
        "\n",
        "# Backpropagation"
      ],
      "metadata": {
        "id": "bPf1O_bdSpnn"
      }
    },
    {
      "cell_type": "code",
      "source": [
        "# I am creating a simple neural network \n",
        "# It takes 1 input with corresponding weight w1 and bias b1\n",
        "# It goes into one hidden layer which has a corresponding weight w2 and bias b2\n",
        "# This then provides the output value"
      ],
      "metadata": {
        "id": "U5IXtc3sSu8J"
      },
      "execution_count": null,
      "outputs": []
    },
    {
      "cell_type": "code",
      "source": [
        "def neuron(w1, b1, x):\n",
        "    # Activation function\n",
        "    r = w1*x + b1\n",
        "    return r\n",
        "\n",
        "def forward_nn(w1, b1, w2, b2, x):\n",
        "    h1 = neuron(w1, b1, x)\n",
        "    o1 = neuron(w2, b2, h1)\n",
        "    return o1\n",
        "\n",
        "def sq_error(o1, yy):\n",
        "    e = o1 - yy\n",
        "    return e*e\n",
        "\n",
        "def error_nn(w1, b1, w2, b2, x, yy):\n",
        "    o1 = forward_nn(w1, b1, w2, b2, x)\n",
        "    e = o1 - yy\n",
        "    return e*e"
      ],
      "metadata": {
        "id": "G_3g-PgZThFi"
      },
      "execution_count": null,
      "outputs": []
    },
    {
      "cell_type": "code",
      "source": [
        "w1 = 0.5\n",
        "b1 = 0.4\n",
        "w2 = 0.3\n",
        "b2 = 0.1\n",
        "\n",
        "learning_rate = 0.001\n",
        "\n",
        "for epoch in range(100):\n",
        "    for i in range(len(x)):\n",
        "        X = x[i]\n",
        "        Y = y[i]\n",
        "        dE_dw1 = pdiff(error_nn, 0, w1, b1, w2, b2, X, Y)\n",
        "        dE_db1 = pdiff(error_nn, 1, w1, b1, w2, b2, X, Y)\n",
        "        dE_dw2 = pdiff(error_nn, 2, w1, b1, w2, b2, X, Y)\n",
        "        dE_db2 = pdiff(error_nn, 3, w1, b1, w2, b2, X, Y)\n",
        "        \n",
        "        w1 = w1 - learning_rate * dE_dw1\n",
        "        b1 = b1 - learning_rate * dE_db1\n",
        "        \n",
        "        w2 = w2 - learning_rate * dE_dw2\n",
        "        b2 = b2 - learning_rate * dE_db2"
      ],
      "metadata": {
        "id": "ItzeKVNbZSm4"
      },
      "execution_count": null,
      "outputs": []
    },
    {
      "cell_type": "code",
      "source": [
        "y_bymodel = forward_nn(w1,b1,w2,b2,x)"
      ],
      "metadata": {
        "id": "8y_txJ6Ycl44"
      },
      "execution_count": null,
      "outputs": []
    },
    {
      "cell_type": "code",
      "source": [
        "plt.scatter(x,y)\n",
        "plt.plot(x,y_bymodel,color = 'r')\n",
        "plt.show()"
      ],
      "metadata": {
        "colab": {
          "base_uri": "https://localhost:8080/",
          "height": 268
        },
        "id": "FesPwK6kciUD",
        "outputId": "1f7ce820-400c-44c6-c9d4-eb90e9c900e0"
      },
      "execution_count": null,
      "outputs": [
        {
          "output_type": "display_data",
          "data": {
            "text/plain": [
              "<Figure size 432x288 with 1 Axes>"
            ],
            "image/png": "[encoded data removed]"
          },
          "metadata": {
            "needs_background": "light"
          }
        }
      ]
    },
    {
      "cell_type": "code",
      "source": [
        "# y = w2(w1*x + b1) + b2\n",
        "# y = (w2*w1)x + w2*b1 + b2\n",
        "# m  = w2*w1\n",
        "# c = w2*b1 + b2"
      ],
      "metadata": {
        "id": "EklITtfSdHRx"
      },
      "execution_count": null,
      "outputs": []
    },
    {
      "cell_type": "code",
      "source": [
        " m  = w2*w1\n",
        " c = w2*b1 + b2\n",
        " print(m,c)"
      ],
      "metadata": {
        "colab": {
          "base_uri": "https://localhost:8080/"
        },
        "id": "5Zb3p2kJepIo",
        "outputId": "f16a8350-e373-48fc-a185-aff1f367db45"
      },
      "execution_count": null,
      "outputs": [
        {
          "output_type": "stream",
          "name": "stdout",
          "text": [
            "[3.06598403] [4.47492985]\n"
          ]
        }
      ]
    },
    {
      "cell_type": "code",
      "source": [
        ""
      ],
      "metadata": {
        "id": "rIxFzValetxH"
      },
      "execution_count": null,
      "outputs": []
    }
  ]
}